{
  "nbformat": 4,
  "nbformat_minor": 0,
  "metadata": {
    "colab": {
      "name": "Untitled20.ipynb",
      "version": "0.3.2",
      "provenance": [],
      "collapsed_sections": []
    },
    "kernelspec": {
      "name": "python3",
      "display_name": "Python 3"
    },
    "accelerator": "GPU"
  },
  "cells": [
    {
      "metadata": {
        "id": "Q5QWbt8cVKAY",
        "colab_type": "code",
        "outputId": "be626566-f955-41a7-ddeb-dcc7f7e109e8",
        "colab": {
          "base_uri": "https://localhost:8080/",
          "height": 34
        }
      },
      "cell_type": "code",
      "source": [
        "from zipfile import ZipFile\n",
        "\n",
        "file_name = \"dataset.zip\"\n",
        "with ZipFile(file_name,'r') as zip:\n",
        "  zip.extractall()\n",
        "  print('Done')"
      ],
      "execution_count": 1,
      "outputs": [
        {
          "output_type": "stream",
          "text": [
            "Done\n"
          ],
          "name": "stdout"
        }
      ]
    },
    {
      "metadata": {
        "id": "gaaeCMK5VSDX",
        "colab_type": "code",
        "colab": {}
      },
      "cell_type": "code",
      "source": [
        "import bz2\n",
        "import os\n",
        "\n",
        "from urllib.request import urlopen\n",
        "\n",
        "def download_landmarks(dst_file):\n",
        "    url = 'http://dlib.net/files/shape_predictor_68_face_landmarks.dat.bz2'\n",
        "    decompressor = bz2.BZ2Decompressor()\n",
        "    \n",
        "    with urlopen(url) as src, open(dst_file, 'wb') as dst:\n",
        "        data = src.read(1024)\n",
        "        while len(data) > 0:\n",
        "            dst.write(decompressor.decompress(data))\n",
        "            data = src.read(1024)\n",
        "\n",
        "dst_dir = 'models'\n",
        "dst_file = os.path.join(dst_dir, 'landmarks.dat')\n",
        "\n",
        "if not os.path.exists(dst_file):\n",
        "    os.makedirs(dst_dir)\n",
        "    download_landmarks(dst_file)"
      ],
      "execution_count": 0,
      "outputs": []
    },
    {
      "metadata": {
        "id": "7WyqPx-iViI2",
        "colab_type": "code",
        "colab": {}
      },
      "cell_type": "code",
      "source": [
        "import cv2\n",
        "import dlib\n",
        "import matplotlib.pyplot as plt\n",
        "import matplotlib.patches as patches\n",
        "from Align import AlignDlib\n",
        "from tqdm import tqdm\n",
        "from model import create_model\n",
        "import pandas as pd\n",
        "import numpy as np\n",
        "\n",
        "from sklearn.preprocessing import LabelEncoder\n",
        "from sklearn.neighbors import KNeighborsClassifier\n",
        "from sklearn.svm import LinearSVC\n",
        "from sklearn.svm import SVC\n",
        "\n",
        "from joblib import dump, load\n",
        "from sklearn.metrics import f1_score, accuracy_score\n",
        "from sklearn.feature_extraction.text import CountVectorizer\n",
        "\n",
        "from keras.utils import np_utils \n",
        "from keras.datasets import mnist \n",
        "import seaborn as sns\n",
        "import tensorflow\n",
        "from keras.initializers import RandomNormal\n",
        "from keras.initializers import he_normal\n",
        "import matplotlib.pyplot as plt\n",
        "import numpy as np\n",
        "import time\n",
        "from keras.models import Sequential \n",
        "from keras.layers import Dense, Activation \n",
        "from keras.layers.normalization import BatchNormalization\n",
        "from keras.layers import Dropout\n",
        "import numpy as np\n",
        "import os.path\n",
        "import matplotlib.pyplot as plt"
      ],
      "execution_count": 0,
      "outputs": []
    },
    {
      "metadata": {
        "id": "7eGD2O1bWrTV",
        "colab_type": "code",
        "colab": {}
      },
      "cell_type": "code",
      "source": [
        "class IdentityMetadata():\n",
        "    def __init__(self, base, name, file):\n",
        "        # dataset base directory\n",
        "        self.base = base\n",
        "        # identity name\n",
        "        self.name = name\n",
        "        # image file name\n",
        "        self.file = file\n",
        "\n",
        "    def __repr__(self):\n",
        "        return self.image_path()\n",
        "\n",
        "    def image_path(self):\n",
        "        return os.path.join(self.base, self.name, self.file)"
      ],
      "execution_count": 0,
      "outputs": []
    },
    {
      "metadata": {
        "id": "Go7LbJcybhy3",
        "colab_type": "code",
        "colab": {}
      },
      "cell_type": "code",
      "source": [
        "def extensions(path):\n",
        "    extension = []\n",
        "    for i in os.listdir(path):\n",
        "        for f in os.listdir(os.path.join(path, i)):\n",
        "            ext = os.path.splitext(f)[1]\n",
        "            extension.append(ext)\n",
        "    return np.array(extension)\n",
        "\n",
        "extension = extensions('data')"
      ],
      "execution_count": 0,
      "outputs": []
    },
    {
      "metadata": {
        "id": "NQWuVt9rbr7D",
        "colab_type": "code",
        "outputId": "916ac4be-5060-45ca-ac67-f64807e76867",
        "colab": {
          "base_uri": "https://localhost:8080/",
          "height": 136
        }
      },
      "cell_type": "code",
      "source": [
        "(pd.Series(extension)).value_counts()"
      ],
      "execution_count": 6,
      "outputs": [
        {
          "output_type": "execute_result",
          "data": {
            "text/plain": [
              ".jpg     273\n",
              ".jpeg     29\n",
              ".JPG       9\n",
              ".cms       4\n",
              ".png       3\n",
              ".img       1\n",
              "dtype: int64"
            ]
          },
          "metadata": {
            "tags": []
          },
          "execution_count": 6
        }
      ]
    },
    {
      "metadata": {
        "id": "0NLeEapdVjDh",
        "colab_type": "code",
        "colab": {}
      },
      "cell_type": "code",
      "source": [
        "def load_metadata(path):\n",
        "  metadata = []\n",
        "  for i in os.listdir(path):\n",
        "    for f in os.listdir(os.path.join(path, i)):\n",
        "      ext = os.path.splitext(f)[1]\n",
        "      if ext == '.jpg' or ext == '.jpeg' or ext=='.JPG' or ext=='.png':\n",
        "        metadata.append(IdentityMetadata(path, i, f))\n",
        "  return np.array(metadata)\n",
        "\n",
        "metadata = load_metadata('data')"
      ],
      "execution_count": 0,
      "outputs": []
    },
    {
      "metadata": {
        "id": "g-SYWMwuZaC1",
        "colab_type": "code",
        "outputId": "b34f863a-350f-4f68-9b13-5c33b759d720",
        "colab": {
          "base_uri": "https://localhost:8080/",
          "height": 34
        }
      },
      "cell_type": "code",
      "source": [
        "len(metadata)"
      ],
      "execution_count": 8,
      "outputs": [
        {
          "output_type": "execute_result",
          "data": {
            "text/plain": [
              "314"
            ]
          },
          "metadata": {
            "tags": []
          },
          "execution_count": 8
        }
      ]
    },
    {
      "metadata": {
        "id": "MG8_Sl__Zb-8",
        "colab_type": "code",
        "outputId": "cc0ea1e8-f850-483e-f1e1-ad8771949e74",
        "colab": {
          "base_uri": "https://localhost:8080/",
          "height": 34
        }
      },
      "cell_type": "code",
      "source": [
        "metadata[0]"
      ],
      "execution_count": 9,
      "outputs": [
        {
          "output_type": "execute_result",
          "data": {
            "text/plain": [
              "data/fardeen khan/MV5BNzQwMzg2NzU1MF5BMl5BanBnXkFtZTgwNDIxMjMzOTE_._V1_.jpg"
            ]
          },
          "metadata": {
            "tags": []
          },
          "execution_count": 9
        }
      ]
    },
    {
      "metadata": {
        "id": "9WmDyKdPoMYS",
        "colab_type": "code",
        "colab": {}
      },
      "cell_type": "code",
      "source": [
        "names = np.array([m.name for m in metadata])"
      ],
      "execution_count": 0,
      "outputs": []
    },
    {
      "metadata": {
        "id": "XwJwO0TdoMdE",
        "colab_type": "code",
        "colab": {
          "base_uri": "https://localhost:8080/",
          "height": 374
        },
        "outputId": "7456ac3a-7a1d-4a17-b594-7181a75c399b"
      },
      "cell_type": "code",
      "source": [
        "pd.Series(names).value_counts()[:20]"
      ],
      "execution_count": 18,
      "outputs": [
        {
          "output_type": "execute_result",
          "data": {
            "text/plain": [
              "hrithik roshan        13\n",
              "anil kapoor           10\n",
              "ayushmann khurrana     9\n",
              "aamir khan             9\n",
              "atul kulkarni          9\n",
              "dharmendra             8\n",
              "amitabh bachchan       8\n",
              "imran khan             8\n",
              "arshad warsi           8\n",
              "annu kapoor            8\n",
              "arjun kapoor           8\n",
              "arjun rampal           7\n",
              "himesh reshammiya      7\n",
              "aditya roy kapoor      7\n",
              "irfan khan             7\n",
              "boman irani            7\n",
              "farhan akhtar          7\n",
              "anupam kher            7\n",
              "gurmeet choudhary      6\n",
              "arbaaz khan            6\n",
              "dtype: int64"
            ]
          },
          "metadata": {
            "tags": []
          },
          "execution_count": 18
        }
      ]
    },
    {
      "metadata": {
        "id": "M98nlbHAoMXQ",
        "colab_type": "code",
        "colab": {
          "base_uri": "https://localhost:8080/",
          "height": 420
        },
        "outputId": "12b6fb31-a9e2-4547-ef8a-cd49e8f3f83e"
      },
      "cell_type": "code",
      "source": [
        "plt.figure(figsize=(10,5))\n",
        "plt.plot(pd.Series(names).value_counts())\n",
        "plt.xticks(rotation=90)\n",
        "plt.grid(b=True)\n",
        "plt.show()"
      ],
      "execution_count": 72,
      "outputs": [
        {
          "output_type": "display_data",
          "data": {
            "image/png": "[encoded data removed]",
            "text/plain": [
              "<Figure size 720x360 with 1 Axes>"
            ]
          },
          "metadata": {
            "tags": []
          }
        }
      ]
    },
    {
      "metadata": {
        "id": "RrKq21xOZdSo",
        "colab_type": "code",
        "colab": {}
      },
      "cell_type": "code",
      "source": [
        "alignment = AlignDlib('models/landmarks.dat')"
      ],
      "execution_count": 0,
      "outputs": []
    },
    {
      "metadata": {
        "id": "-RFgtilTbDCs",
        "colab_type": "code",
        "colab": {}
      },
      "cell_type": "code",
      "source": [
        "def load_image(path):\n",
        "    img = cv2.imread(path, 1)\n",
        "    return img[...,::-1]\n",
        "  \n",
        "def align_image(img):\n",
        "    return alignment.align(96, img, alignment.getLargestFaceBoundingBox(img), \n",
        "                           landmarkIndices=AlignDlib.OUTER_EYES_AND_NOSE)"
      ],
      "execution_count": 0,
      "outputs": []
    },
    {
      "metadata": {
        "id": "aacjolOGbDH-",
        "colab_type": "code",
        "outputId": "ad414361-1d2f-4509-c004-193630f220b8",
        "colab": {
          "base_uri": "https://localhost:8080/",
          "height": 88
        }
      },
      "cell_type": "code",
      "source": [
        "#Load pretrained Model\n",
        "\n",
        "model = create_model()\n",
        "model.load_weights('open_face.h5')"
      ],
      "execution_count": 12,
      "outputs": [
        {
          "output_type": "stream",
          "text": [
            "WARNING:tensorflow:From /usr/local/lib/python3.6/dist-packages/tensorflow/python/framework/op_def_library.py:263: colocate_with (from tensorflow.python.framework.ops) is deprecated and will be removed in a future version.\n",
            "Instructions for updating:\n",
            "Colocations handled automatically by placer.\n"
          ],
          "name": "stdout"
        }
      ]
    },
    {
      "metadata": {
        "id": "U30IkptHbDG3",
        "colab_type": "code",
        "colab": {}
      },
      "cell_type": "code",
      "source": [
        ""
      ],
      "execution_count": 0,
      "outputs": []
    },
    {
      "metadata": {
        "id": "Y0by5Qz8bDBS",
        "colab_type": "code",
        "colab": {}
      },
      "cell_type": "code",
      "source": [
        "embedded = np.zeros((metadata.shape[0], 128))\n",
        "\n",
        "for i, m in enumerate(metadata):\n",
        "    try:\n",
        "      img = load_image(m.image_path())\n",
        "      img = align_image(img)\n",
        "      # scale RGB values to interval [0,1]\n",
        "      img = (img / 255.).astype(np.float32)\n",
        "      # obtain embedding vector for image\n",
        "      embedded[i] = model.predict(np.expand_dims(img, axis=0))[0]\n",
        "    except:\n",
        "      print(i,m)"
      ],
      "execution_count": 0,
      "outputs": []
    },
    {
      "metadata": {
        "id": "50Gz9roJESOZ",
        "colab_type": "code",
        "colab": {}
      },
      "cell_type": "code",
      "source": [
        ""
      ],
      "execution_count": 0,
      "outputs": []
    },
    {
      "metadata": {
        "id": "bkeqVqsCESoV",
        "colab_type": "code",
        "colab": {
          "base_uri": "https://localhost:8080/",
          "height": 269
        },
        "outputId": "faebc5bf-feec-45dd-9d9a-865088ecb4a1"
      },
      "cell_type": "code",
      "source": [
        "from sklearn.manifold import TSNE\n",
        "\n",
        "X_embedded = TSNE(n_components=2).fit_transform(embedded)\n",
        "\n",
        "for i, t in enumerate(set(names)):\n",
        "    idx = names == t\n",
        "    plt.scatter(X_embedded[idx, 0], X_embedded[idx, 1], label=t)   \n",
        "\n"
      ],
      "execution_count": 140,
      "outputs": [
        {
          "output_type": "display_data",
          "data": {
            "image/png": "[encoded data removed]",
            "text/plain": [
              "<Figure size 432x288 with 1 Axes>"
            ]
          },
          "metadata": {
            "tags": []
          }
        }
      ]
    },
    {
      "metadata": {
        "id": "XnVQCKnVESNE",
        "colab_type": "code",
        "colab": {}
      },
      "cell_type": "code",
      "source": [
        ""
      ],
      "execution_count": 0,
      "outputs": []
    },
    {
      "metadata": {
        "id": "mqupnW_8ckaW",
        "colab_type": "code",
        "colab": {}
      },
      "cell_type": "code",
      "source": [
        "df = pd.DataFrame(embedded)\n",
        "df.to_csv(\"embedded_314_celeb.csv\",index=False)"
      ],
      "execution_count": 0,
      "outputs": []
    },
    {
      "metadata": {
        "id": "GS5OQXiJuaYw",
        "colab_type": "code",
        "colab": {}
      },
      "cell_type": "code",
      "source": [
        ""
      ],
      "execution_count": 0,
      "outputs": []
    },
    {
      "metadata": {
        "id": "Wy1lQM1mnN46",
        "colab_type": "code",
        "colab": {}
      },
      "cell_type": "code",
      "source": [
        ""
      ],
      "execution_count": 0,
      "outputs": []
    },
    {
      "metadata": {
        "id": "GTcg4wJgnNzj",
        "colab_type": "code",
        "colab": {}
      },
      "cell_type": "code",
      "source": [
        ""
      ],
      "execution_count": 0,
      "outputs": []
    },
    {
      "metadata": {
        "id": "Lp85D3p2uvyg",
        "colab_type": "code",
        "colab": {
          "base_uri": "https://localhost:8080/",
          "height": 34
        },
        "outputId": "bda678fd-5467-479f-81b7-d8dae55c02d9"
      },
      "cell_type": "code",
      "source": [
        ""
      ],
      "execution_count": 44,
      "outputs": [
        {
          "output_type": "execute_result",
          "data": {
            "text/plain": [
              "53"
            ]
          },
          "metadata": {
            "tags": []
          },
          "execution_count": 44
        }
      ]
    },
    {
      "metadata": {
        "id": "xUEdvC_3_iRh",
        "colab_type": "code",
        "colab": {}
      },
      "cell_type": "code",
      "source": [
        "from sklearn import preprocessing\n",
        "le = preprocessing.LabelEncoder()\n",
        "names_encode = le.fit_transform(names)"
      ],
      "execution_count": 0,
      "outputs": []
    },
    {
      "metadata": {
        "id": "MOdAychz_lJl",
        "colab_type": "code",
        "colab": {}
      },
      "cell_type": "code",
      "source": [
        ""
      ],
      "execution_count": 0,
      "outputs": []
    },
    {
      "metadata": {
        "id": "KrBcowZJpIxH",
        "colab_type": "code",
        "colab": {}
      },
      "cell_type": "code",
      "source": [
        "import pickle\n",
        "with open('names_encode.pickle', 'wb') as f:\n",
        "    pickle.dump(names_encode, f)"
      ],
      "execution_count": 0,
      "outputs": []
    },
    {
      "metadata": {
        "id": "pzARVvFtunSg",
        "colab_type": "code",
        "colab": {
          "base_uri": "https://localhost:8080/",
          "height": 34
        },
        "outputId": "ac3cedcc-ccc5-41fb-ebdd-4fbce830afdd"
      },
      "cell_type": "code",
      "source": [
        "y = np.zeros((embedded.shape[0],len(set(names_encode))),dtype=int)\n",
        "y.shape"
      ],
      "execution_count": 118,
      "outputs": [
        {
          "output_type": "execute_result",
          "data": {
            "text/plain": [
              "(314, 53)"
            ]
          },
          "metadata": {
            "tags": []
          },
          "execution_count": 118
        }
      ]
    },
    {
      "metadata": {
        "id": "tYBAZxU6wuyN",
        "colab_type": "code",
        "colab": {}
      },
      "cell_type": "code",
      "source": [
        "for i,name in enumerate(names):\n",
        "  ind = names_encode[i]\n",
        "  y[i][ind]=1"
      ],
      "execution_count": 0,
      "outputs": []
    },
    {
      "metadata": {
        "id": "6FEt6hp4Ahnt",
        "colab_type": "code",
        "colab": {
          "base_uri": "https://localhost:8080/",
          "height": 68
        },
        "outputId": "a5b42727-f11c-4131-b583-073586515bc6"
      },
      "cell_type": "code",
      "source": [
        "y[0]"
      ],
      "execution_count": 120,
      "outputs": [
        {
          "output_type": "execute_result",
          "data": {
            "text/plain": [
              "array([0, 0, 0, 0, 0, 0, 0, 0, 0, 0, 0, 0, 0, 0, 0, 0, 0, 0, 0, 0, 0, 0,\n",
              "       0, 0, 0, 0, 0, 0, 0, 0, 0, 0, 0, 0, 0, 0, 0, 0, 0, 1, 0, 0, 0, 0,\n",
              "       0, 0, 0, 0, 0, 0, 0, 0, 0])"
            ]
          },
          "metadata": {
            "tags": []
          },
          "execution_count": 120
        }
      ]
    },
    {
      "metadata": {
        "id": "bDKdVbxdCy4U",
        "colab_type": "code",
        "colab": {
          "base_uri": "https://localhost:8080/",
          "height": 51
        },
        "outputId": "124c590a-1e01-4433-c7a2-c811fc9c2f91"
      },
      "cell_type": "code",
      "source": [
        "train_idx = np.arange(embedded.shape[0]) % 5 != 0\n",
        "test_idx = np.arange(embedded.shape[0]) % 5 == 0\n",
        "\n",
        "print(np.sum(train_idx))\n",
        "print(np.sum(test_idx))"
      ],
      "execution_count": 149,
      "outputs": [
        {
          "output_type": "stream",
          "text": [
            "251\n",
            "63\n"
          ],
          "name": "stdout"
        }
      ]
    },
    {
      "metadata": {
        "id": "TkpMRetJFVmK",
        "colab_type": "code",
        "colab": {}
      },
      "cell_type": "code",
      "source": [
        ""
      ],
      "execution_count": 0,
      "outputs": []
    },
    {
      "metadata": {
        "id": "yElwtSyuwxOE",
        "colab_type": "code",
        "colab": {}
      },
      "cell_type": "code",
      "source": [
        "X_train = embedded[train_idx]\n",
        "y_train = y[train_idx]\n",
        "\n",
        "X_val = embedded[test_idx]\n",
        "y_val = y[test_idx]"
      ],
      "execution_count": 0,
      "outputs": []
    },
    {
      "metadata": {
        "id": "M3eOSU6uw4ht",
        "colab_type": "code",
        "colab": {
          "base_uri": "https://localhost:8080/",
          "height": 51
        },
        "outputId": "143f6215-db21-41ff-8061-024ab687697f"
      },
      "cell_type": "code",
      "source": [
        "print(X_train.shape)\n",
        "print(y_train.shape)"
      ],
      "execution_count": 161,
      "outputs": [
        {
          "output_type": "stream",
          "text": [
            "(251, 128)\n",
            "(251, 53)\n"
          ],
          "name": "stdout"
        }
      ]
    },
    {
      "metadata": {
        "id": "PBbo38Lrw5G4",
        "colab_type": "code",
        "colab": {}
      },
      "cell_type": "code",
      "source": [
        "output_dim = 53\n",
        "input_dim = X_train.shape[1]\n",
        "\n",
        "batch_size = 8\n",
        "nb_epoch = 250"
      ],
      "execution_count": 0,
      "outputs": []
    },
    {
      "metadata": {
        "id": "mebhg7TLxAj9",
        "colab_type": "code",
        "colab": {}
      },
      "cell_type": "code",
      "source": [
        "import keras"
      ],
      "execution_count": 0,
      "outputs": []
    },
    {
      "metadata": {
        "id": "yqQzV-1Tw-SR",
        "colab_type": "code",
        "colab": {
          "base_uri": "https://localhost:8080/",
          "height": 391
        },
        "outputId": "eee5744f-e13f-415d-cb3a-ef94d164bfac"
      },
      "cell_type": "code",
      "source": [
        "model_relu = Sequential()\n",
        "\n",
        "model_relu.add(Dense(250, activation='relu', input_shape=(input_dim,), kernel_initializer=keras.initializers.he_normal(seed=None)))\n",
        "model_relu.add(BatchNormalization())\n",
        "model_relu.add(Dropout(0.5))\n",
        "\n",
        "model_relu.add(Dense(100, activation='relu', kernel_initializer=keras.initializers.he_normal(seed=None)) )\n",
        "model_relu.add(BatchNormalization())\n",
        "model_relu.add(Dropout(0.5))\n",
        "\n",
        "model_relu.add(Dense(output_dim,activation='softmax'))\n",
        "\n",
        "print(model_relu.summary())"
      ],
      "execution_count": 165,
      "outputs": [
        {
          "output_type": "stream",
          "text": [
            "_________________________________________________________________\n",
            "Layer (type)                 Output Shape              Param #   \n",
            "=================================================================\n",
            "dense_19 (Dense)             (None, 250)               32250     \n",
            "_________________________________________________________________\n",
            "batch_normalization_13 (Batc (None, 250)               1000      \n",
            "_________________________________________________________________\n",
            "dropout_13 (Dropout)         (None, 250)               0         \n",
            "_________________________________________________________________\n",
            "dense_20 (Dense)             (None, 100)               25100     \n",
            "_________________________________________________________________\n",
            "batch_normalization_14 (Batc (None, 100)               400       \n",
            "_________________________________________________________________\n",
            "dropout_14 (Dropout)         (None, 100)               0         \n",
            "_________________________________________________________________\n",
            "dense_21 (Dense)             (None, 53)                5353      \n",
            "=================================================================\n",
            "Total params: 64,103\n",
            "Trainable params: 63,403\n",
            "Non-trainable params: 700\n",
            "_________________________________________________________________\n",
            "None\n"
          ],
          "name": "stdout"
        }
      ]
    },
    {
      "metadata": {
        "id": "w6s9HF2lxYH0",
        "colab_type": "code",
        "colab": {}
      },
      "cell_type": "code",
      "source": [
        "model_relu.compile(optimizer='adam', loss='categorical_crossentropy', metrics=['accuracy'])"
      ],
      "execution_count": 0,
      "outputs": []
    },
    {
      "metadata": {
        "id": "Cz7dy5clxeO5",
        "colab_type": "code",
        "colab": {
          "base_uri": "https://localhost:8080/",
          "height": 8534
        },
        "outputId": "3f5fa37f-8113-4784-f1b1-c1c005ff3841"
      },
      "cell_type": "code",
      "source": [
        "history = model_relu.fit(X_train, y_train, batch_size=batch_size, epochs=nb_epoch,validation_data=[X_val,y_val])"
      ],
      "execution_count": 168,
      "outputs": [
        {
          "output_type": "stream",
          "text": [
            "Train on 251 samples, validate on 63 samples\n",
            "Epoch 1/250\n",
            "251/251 [==============================] - 2s 9ms/step - loss: 4.9032 - acc: 0.0398 - val_loss: 3.6727 - val_acc: 0.0952\n",
            "Epoch 2/250\n",
            "251/251 [==============================] - 0s 910us/step - loss: 4.2614 - acc: 0.0876 - val_loss: 3.1072 - val_acc: 0.2063\n",
            "Epoch 3/250\n",
            "251/251 [==============================] - 0s 878us/step - loss: 3.6591 - acc: 0.1116 - val_loss: 2.6418 - val_acc: 0.3492\n",
            "Epoch 4/250\n",
            "251/251 [==============================] - 0s 914us/step - loss: 3.3038 - acc: 0.1594 - val_loss: 2.3508 - val_acc: 0.4921\n",
            "Epoch 5/250\n",
            "251/251 [==============================] - 0s 922us/step - loss: 2.8763 - acc: 0.2550 - val_loss: 2.0446 - val_acc: 0.4921\n",
            "Epoch 6/250\n",
            "251/251 [==============================] - 0s 889us/step - loss: 2.6010 - acc: 0.2829 - val_loss: 1.8422 - val_acc: 0.5873\n",
            "Epoch 7/250\n",
            "251/251 [==============================] - 0s 890us/step - loss: 2.3420 - acc: 0.3825 - val_loss: 1.7477 - val_acc: 0.6190\n",
            "Epoch 8/250\n",
            "251/251 [==============================] - 0s 926us/step - loss: 2.2839 - acc: 0.4024 - val_loss: 1.6497 - val_acc: 0.6825\n",
            "Epoch 9/250\n",
            "251/251 [==============================] - 0s 944us/step - loss: 2.1518 - acc: 0.3904 - val_loss: 1.5814 - val_acc: 0.6667\n",
            "Epoch 10/250\n",
            "251/251 [==============================] - 0s 898us/step - loss: 1.8819 - acc: 0.4781 - val_loss: 1.4758 - val_acc: 0.7460\n",
            "Epoch 11/250\n",
            "251/251 [==============================] - 0s 896us/step - loss: 1.8556 - acc: 0.5657 - val_loss: 1.4268 - val_acc: 0.7619\n",
            "Epoch 12/250\n",
            "251/251 [==============================] - 0s 904us/step - loss: 1.8281 - acc: 0.5179 - val_loss: 1.3551 - val_acc: 0.7302\n",
            "Epoch 13/250\n",
            "251/251 [==============================] - 0s 913us/step - loss: 1.6998 - acc: 0.5498 - val_loss: 1.2647 - val_acc: 0.7937\n",
            "Epoch 14/250\n",
            "251/251 [==============================] - 0s 857us/step - loss: 1.6142 - acc: 0.5737 - val_loss: 1.2153 - val_acc: 0.7937\n",
            "Epoch 15/250\n",
            "251/251 [==============================] - 0s 899us/step - loss: 1.4552 - acc: 0.5976 - val_loss: 1.1631 - val_acc: 0.7937\n",
            "Epoch 16/250\n",
            "251/251 [==============================] - 0s 886us/step - loss: 1.4841 - acc: 0.5737 - val_loss: 1.1299 - val_acc: 0.7937\n",
            "Epoch 17/250\n",
            "251/251 [==============================] - 0s 907us/step - loss: 1.3923 - acc: 0.6375 - val_loss: 1.0874 - val_acc: 0.7937\n",
            "Epoch 18/250\n",
            "251/251 [==============================] - 0s 934us/step - loss: 1.2581 - acc: 0.6773 - val_loss: 1.0538 - val_acc: 0.7937\n",
            "Epoch 19/250\n",
            "251/251 [==============================] - 0s 934us/step - loss: 1.1208 - acc: 0.7131 - val_loss: 1.0156 - val_acc: 0.7937\n",
            "Epoch 20/250\n",
            "251/251 [==============================] - 0s 927us/step - loss: 1.2230 - acc: 0.6534 - val_loss: 0.9872 - val_acc: 0.8254\n",
            "Epoch 21/250\n",
            "251/251 [==============================] - 0s 868us/step - loss: 1.0846 - acc: 0.7211 - val_loss: 0.9578 - val_acc: 0.8095\n",
            "Epoch 22/250\n",
            "251/251 [==============================] - 0s 935us/step - loss: 1.0134 - acc: 0.7251 - val_loss: 0.9265 - val_acc: 0.8254\n",
            "Epoch 23/250\n",
            "251/251 [==============================] - 0s 894us/step - loss: 1.0441 - acc: 0.7291 - val_loss: 0.9261 - val_acc: 0.8254\n",
            "Epoch 24/250\n",
            "251/251 [==============================] - 0s 958us/step - loss: 1.0591 - acc: 0.7251 - val_loss: 0.9161 - val_acc: 0.7937\n",
            "Epoch 25/250\n",
            "251/251 [==============================] - 0s 909us/step - loss: 1.0445 - acc: 0.7092 - val_loss: 0.8981 - val_acc: 0.7937\n",
            "Epoch 26/250\n",
            "251/251 [==============================] - 0s 891us/step - loss: 0.9909 - acc: 0.7052 - val_loss: 0.8893 - val_acc: 0.7619\n",
            "Epoch 27/250\n",
            "251/251 [==============================] - 0s 906us/step - loss: 1.0478 - acc: 0.7331 - val_loss: 0.8834 - val_acc: 0.7937\n",
            "Epoch 28/250\n",
            "251/251 [==============================] - 0s 892us/step - loss: 0.8726 - acc: 0.7769 - val_loss: 0.8794 - val_acc: 0.7778\n",
            "Epoch 29/250\n",
            "251/251 [==============================] - 0s 897us/step - loss: 0.9086 - acc: 0.7410 - val_loss: 0.8683 - val_acc: 0.7937\n",
            "Epoch 30/250\n",
            "251/251 [==============================] - 0s 865us/step - loss: 0.7295 - acc: 0.8406 - val_loss: 0.8480 - val_acc: 0.7937\n",
            "Epoch 31/250\n",
            "251/251 [==============================] - 0s 909us/step - loss: 1.0197 - acc: 0.7331 - val_loss: 0.8377 - val_acc: 0.8095\n",
            "Epoch 32/250\n",
            "251/251 [==============================] - 0s 888us/step - loss: 0.7789 - acc: 0.7530 - val_loss: 0.8546 - val_acc: 0.8095\n",
            "Epoch 33/250\n",
            "251/251 [==============================] - 0s 880us/step - loss: 0.7371 - acc: 0.8127 - val_loss: 0.8363 - val_acc: 0.8095\n",
            "Epoch 34/250\n",
            "251/251 [==============================] - 0s 887us/step - loss: 0.7380 - acc: 0.7888 - val_loss: 0.8604 - val_acc: 0.8095\n",
            "Epoch 35/250\n",
            "251/251 [==============================] - 0s 911us/step - loss: 0.6839 - acc: 0.8327 - val_loss: 0.8463 - val_acc: 0.8095\n",
            "Epoch 36/250\n",
            "251/251 [==============================] - 0s 943us/step - loss: 0.7063 - acc: 0.8207 - val_loss: 0.8406 - val_acc: 0.8095\n",
            "Epoch 37/250\n",
            "251/251 [==============================] - 0s 888us/step - loss: 0.6785 - acc: 0.8127 - val_loss: 0.8307 - val_acc: 0.7937\n",
            "Epoch 38/250\n",
            "251/251 [==============================] - 0s 886us/step - loss: 0.5999 - acc: 0.8526 - val_loss: 0.8225 - val_acc: 0.7937\n",
            "Epoch 39/250\n",
            "251/251 [==============================] - 0s 879us/step - loss: 0.5998 - acc: 0.8685 - val_loss: 0.8450 - val_acc: 0.7937\n",
            "Epoch 40/250\n",
            "251/251 [==============================] - 0s 935us/step - loss: 0.5767 - acc: 0.8287 - val_loss: 0.8140 - val_acc: 0.8254\n",
            "Epoch 41/250\n",
            "251/251 [==============================] - 0s 890us/step - loss: 0.6282 - acc: 0.8247 - val_loss: 0.8153 - val_acc: 0.8095\n",
            "Epoch 42/250\n",
            "251/251 [==============================] - 0s 878us/step - loss: 0.6424 - acc: 0.7849 - val_loss: 0.8350 - val_acc: 0.8095\n",
            "Epoch 43/250\n",
            "251/251 [==============================] - 0s 892us/step - loss: 0.6374 - acc: 0.8207 - val_loss: 0.8370 - val_acc: 0.7937\n",
            "Epoch 44/250\n",
            "251/251 [==============================] - 0s 920us/step - loss: 0.6537 - acc: 0.7968 - val_loss: 0.8384 - val_acc: 0.8095\n",
            "Epoch 45/250\n",
            "251/251 [==============================] - 0s 929us/step - loss: 0.5855 - acc: 0.8526 - val_loss: 0.8214 - val_acc: 0.8095\n",
            "Epoch 46/250\n",
            "251/251 [==============================] - 0s 907us/step - loss: 0.5562 - acc: 0.8446 - val_loss: 0.7831 - val_acc: 0.8095\n",
            "Epoch 47/250\n",
            "251/251 [==============================] - 0s 901us/step - loss: 0.5830 - acc: 0.8526 - val_loss: 0.7864 - val_acc: 0.8095\n",
            "Epoch 48/250\n",
            "251/251 [==============================] - 0s 894us/step - loss: 0.6673 - acc: 0.8167 - val_loss: 0.7932 - val_acc: 0.8095\n",
            "Epoch 49/250\n",
            "251/251 [==============================] - 0s 911us/step - loss: 0.5435 - acc: 0.8446 - val_loss: 0.7766 - val_acc: 0.8095\n",
            "Epoch 50/250\n",
            "251/251 [==============================] - 0s 884us/step - loss: 0.5116 - acc: 0.8805 - val_loss: 0.8053 - val_acc: 0.8095\n",
            "Epoch 51/250\n",
            "251/251 [==============================] - 0s 892us/step - loss: 0.5006 - acc: 0.8566 - val_loss: 0.8161 - val_acc: 0.7937\n",
            "Epoch 52/250\n",
            "251/251 [==============================] - 0s 916us/step - loss: 0.3914 - acc: 0.9044 - val_loss: 0.7972 - val_acc: 0.7937\n",
            "Epoch 53/250\n",
            "251/251 [==============================] - 0s 859us/step - loss: 0.4091 - acc: 0.8924 - val_loss: 0.8034 - val_acc: 0.7937\n",
            "Epoch 54/250\n",
            "251/251 [==============================] - 0s 892us/step - loss: 0.5265 - acc: 0.8526 - val_loss: 0.8260 - val_acc: 0.7937\n",
            "Epoch 55/250\n",
            "251/251 [==============================] - 0s 890us/step - loss: 0.4876 - acc: 0.8645 - val_loss: 0.8099 - val_acc: 0.7937\n",
            "Epoch 56/250\n",
            "251/251 [==============================] - 0s 850us/step - loss: 0.5135 - acc: 0.8805 - val_loss: 0.7471 - val_acc: 0.8095\n",
            "Epoch 57/250\n",
            "251/251 [==============================] - 0s 867us/step - loss: 0.4541 - acc: 0.8725 - val_loss: 0.7709 - val_acc: 0.8095\n",
            "Epoch 58/250\n",
            "251/251 [==============================] - 0s 937us/step - loss: 0.4456 - acc: 0.8765 - val_loss: 0.7674 - val_acc: 0.8254\n",
            "Epoch 59/250\n",
            "251/251 [==============================] - 0s 863us/step - loss: 0.4239 - acc: 0.8884 - val_loss: 0.7723 - val_acc: 0.8095\n",
            "Epoch 60/250\n",
            "251/251 [==============================] - 0s 868us/step - loss: 0.4617 - acc: 0.8526 - val_loss: 0.7802 - val_acc: 0.7937\n",
            "Epoch 61/250\n",
            "251/251 [==============================] - 0s 857us/step - loss: 0.3786 - acc: 0.9044 - val_loss: 0.7743 - val_acc: 0.7937\n",
            "Epoch 62/250\n",
            "251/251 [==============================] - 0s 864us/step - loss: 0.3701 - acc: 0.8964 - val_loss: 0.7654 - val_acc: 0.8254\n",
            "Epoch 63/250\n",
            "251/251 [==============================] - 0s 924us/step - loss: 0.5310 - acc: 0.8367 - val_loss: 0.7647 - val_acc: 0.8413\n",
            "Epoch 64/250\n",
            "251/251 [==============================] - 0s 872us/step - loss: 0.3687 - acc: 0.8884 - val_loss: 0.7913 - val_acc: 0.7937\n",
            "Epoch 65/250\n",
            "251/251 [==============================] - 0s 935us/step - loss: 0.3636 - acc: 0.9084 - val_loss: 0.8164 - val_acc: 0.8095\n",
            "Epoch 66/250\n",
            "251/251 [==============================] - 0s 876us/step - loss: 0.4508 - acc: 0.8645 - val_loss: 0.8278 - val_acc: 0.8254\n",
            "Epoch 67/250\n",
            "251/251 [==============================] - 0s 944us/step - loss: 0.4159 - acc: 0.8845 - val_loss: 0.8308 - val_acc: 0.7937\n",
            "Epoch 68/250\n",
            "251/251 [==============================] - 0s 861us/step - loss: 0.3923 - acc: 0.8924 - val_loss: 0.8166 - val_acc: 0.8095\n",
            "Epoch 69/250\n",
            "251/251 [==============================] - 0s 915us/step - loss: 0.4178 - acc: 0.9124 - val_loss: 0.7737 - val_acc: 0.7937\n",
            "Epoch 70/250\n",
            "251/251 [==============================] - 0s 946us/step - loss: 0.4018 - acc: 0.9004 - val_loss: 0.7438 - val_acc: 0.8095\n",
            "Epoch 71/250\n",
            "251/251 [==============================] - 0s 866us/step - loss: 0.3759 - acc: 0.8685 - val_loss: 0.6813 - val_acc: 0.8254\n",
            "Epoch 72/250\n",
            "251/251 [==============================] - 0s 929us/step - loss: 0.3785 - acc: 0.9044 - val_loss: 0.6903 - val_acc: 0.8413\n",
            "Epoch 73/250\n",
            "251/251 [==============================] - 0s 900us/step - loss: 0.3188 - acc: 0.9044 - val_loss: 0.6990 - val_acc: 0.8254\n",
            "Epoch 74/250\n",
            "251/251 [==============================] - 0s 918us/step - loss: 0.3747 - acc: 0.9044 - val_loss: 0.7243 - val_acc: 0.8254\n",
            "Epoch 75/250\n",
            "251/251 [==============================] - 0s 903us/step - loss: 0.3583 - acc: 0.8924 - val_loss: 0.7815 - val_acc: 0.8254\n",
            "Epoch 76/250\n",
            "251/251 [==============================] - 0s 889us/step - loss: 0.2871 - acc: 0.9203 - val_loss: 0.8116 - val_acc: 0.8095\n",
            "Epoch 77/250\n",
            "251/251 [==============================] - 0s 890us/step - loss: 0.3458 - acc: 0.8924 - val_loss: 0.7749 - val_acc: 0.8413\n",
            "Epoch 78/250\n",
            "251/251 [==============================] - 0s 846us/step - loss: 0.3960 - acc: 0.9044 - val_loss: 0.7834 - val_acc: 0.8254\n",
            "Epoch 79/250\n",
            "251/251 [==============================] - 0s 885us/step - loss: 0.3348 - acc: 0.9283 - val_loss: 0.8183 - val_acc: 0.8095\n",
            "Epoch 80/250\n",
            "251/251 [==============================] - 0s 858us/step - loss: 0.3591 - acc: 0.8884 - val_loss: 0.8078 - val_acc: 0.8413\n",
            "Epoch 81/250\n",
            "251/251 [==============================] - 0s 907us/step - loss: 0.3080 - acc: 0.9044 - val_loss: 0.8044 - val_acc: 0.8254\n",
            "Epoch 82/250\n",
            "251/251 [==============================] - 0s 891us/step - loss: 0.4046 - acc: 0.8964 - val_loss: 0.8020 - val_acc: 0.8254\n",
            "Epoch 83/250\n",
            "251/251 [==============================] - 0s 857us/step - loss: 0.2807 - acc: 0.9243 - val_loss: 0.8254 - val_acc: 0.8413\n",
            "Epoch 84/250\n",
            "251/251 [==============================] - 0s 848us/step - loss: 0.2799 - acc: 0.9283 - val_loss: 0.8319 - val_acc: 0.8254\n",
            "Epoch 85/250\n",
            "251/251 [==============================] - 0s 911us/step - loss: 0.3073 - acc: 0.9203 - val_loss: 0.8775 - val_acc: 0.8254\n",
            "Epoch 86/250\n",
            "251/251 [==============================] - 0s 932us/step - loss: 0.2772 - acc: 0.9124 - val_loss: 0.8511 - val_acc: 0.8571\n",
            "Epoch 87/250\n",
            "251/251 [==============================] - 0s 902us/step - loss: 0.3095 - acc: 0.9124 - val_loss: 0.8171 - val_acc: 0.8571\n",
            "Epoch 88/250\n",
            "251/251 [==============================] - 0s 858us/step - loss: 0.2640 - acc: 0.9402 - val_loss: 0.8041 - val_acc: 0.8571\n",
            "Epoch 89/250\n",
            "251/251 [==============================] - 0s 909us/step - loss: 0.2580 - acc: 0.9323 - val_loss: 0.8722 - val_acc: 0.8413\n",
            "Epoch 90/250\n",
            "251/251 [==============================] - 0s 909us/step - loss: 0.3083 - acc: 0.9004 - val_loss: 0.8420 - val_acc: 0.8571\n",
            "Epoch 91/250\n",
            "251/251 [==============================] - 0s 879us/step - loss: 0.3141 - acc: 0.8964 - val_loss: 0.8609 - val_acc: 0.8571\n",
            "Epoch 92/250\n",
            "251/251 [==============================] - 0s 869us/step - loss: 0.3344 - acc: 0.9124 - val_loss: 0.8300 - val_acc: 0.8413\n",
            "Epoch 93/250\n",
            "251/251 [==============================] - 0s 903us/step - loss: 0.2957 - acc: 0.9084 - val_loss: 0.7864 - val_acc: 0.8413\n",
            "Epoch 94/250\n",
            "251/251 [==============================] - 0s 883us/step - loss: 0.2903 - acc: 0.8964 - val_loss: 0.7358 - val_acc: 0.8413\n",
            "Epoch 95/250\n",
            "251/251 [==============================] - 0s 916us/step - loss: 0.3122 - acc: 0.9044 - val_loss: 0.7987 - val_acc: 0.8254\n",
            "Epoch 96/250\n",
            "251/251 [==============================] - 0s 884us/step - loss: 0.2759 - acc: 0.9044 - val_loss: 0.7906 - val_acc: 0.8254\n",
            "Epoch 97/250\n",
            "251/251 [==============================] - 0s 893us/step - loss: 0.3164 - acc: 0.9084 - val_loss: 0.8139 - val_acc: 0.8095\n",
            "Epoch 98/250\n",
            "251/251 [==============================] - 0s 954us/step - loss: 0.2710 - acc: 0.9283 - val_loss: 0.7792 - val_acc: 0.8095\n",
            "Epoch 99/250\n",
            "251/251 [==============================] - 0s 929us/step - loss: 0.2538 - acc: 0.9283 - val_loss: 0.7651 - val_acc: 0.7937\n",
            "Epoch 100/250\n",
            "251/251 [==============================] - 0s 871us/step - loss: 0.3119 - acc: 0.9124 - val_loss: 0.7352 - val_acc: 0.8571\n",
            "Epoch 101/250\n",
            "251/251 [==============================] - 0s 898us/step - loss: 0.3634 - acc: 0.8924 - val_loss: 0.7460 - val_acc: 0.8571\n",
            "Epoch 102/250\n",
            "251/251 [==============================] - 0s 883us/step - loss: 0.2256 - acc: 0.9363 - val_loss: 0.7668 - val_acc: 0.8730\n",
            "Epoch 103/250\n",
            "251/251 [==============================] - 0s 904us/step - loss: 0.2886 - acc: 0.9163 - val_loss: 0.7824 - val_acc: 0.8571\n",
            "Epoch 104/250\n",
            "251/251 [==============================] - 0s 934us/step - loss: 0.1993 - acc: 0.9482 - val_loss: 0.7493 - val_acc: 0.8571\n",
            "Epoch 105/250\n",
            "251/251 [==============================] - 0s 882us/step - loss: 0.3076 - acc: 0.9124 - val_loss: 0.7228 - val_acc: 0.8730\n",
            "Epoch 106/250\n",
            "251/251 [==============================] - 0s 896us/step - loss: 0.3232 - acc: 0.9163 - val_loss: 0.7371 - val_acc: 0.8730\n",
            "Epoch 107/250\n",
            "251/251 [==============================] - 0s 863us/step - loss: 0.2479 - acc: 0.9363 - val_loss: 0.7306 - val_acc: 0.8730\n",
            "Epoch 108/250\n",
            "251/251 [==============================] - 0s 919us/step - loss: 0.2440 - acc: 0.9323 - val_loss: 0.7349 - val_acc: 0.8571\n",
            "Epoch 109/250\n",
            "251/251 [==============================] - 0s 899us/step - loss: 0.2768 - acc: 0.8884 - val_loss: 0.7498 - val_acc: 0.8571\n",
            "Epoch 110/250\n",
            "251/251 [==============================] - 0s 895us/step - loss: 0.2184 - acc: 0.9283 - val_loss: 0.7649 - val_acc: 0.8413\n",
            "Epoch 111/250\n",
            "251/251 [==============================] - 0s 913us/step - loss: 0.3664 - acc: 0.8685 - val_loss: 0.7775 - val_acc: 0.8095\n",
            "Epoch 112/250\n",
            "251/251 [==============================] - 0s 896us/step - loss: 0.2121 - acc: 0.9402 - val_loss: 0.7904 - val_acc: 0.8254\n",
            "Epoch 113/250\n",
            "251/251 [==============================] - 0s 925us/step - loss: 0.2993 - acc: 0.9044 - val_loss: 0.8305 - val_acc: 0.8254\n",
            "Epoch 114/250\n",
            "251/251 [==============================] - 0s 884us/step - loss: 0.1949 - acc: 0.9602 - val_loss: 0.8836 - val_acc: 0.8095\n",
            "Epoch 115/250\n",
            "251/251 [==============================] - 0s 904us/step - loss: 0.2405 - acc: 0.9084 - val_loss: 0.8314 - val_acc: 0.8413\n",
            "Epoch 116/250\n",
            "251/251 [==============================] - 0s 901us/step - loss: 0.2677 - acc: 0.9243 - val_loss: 0.8163 - val_acc: 0.8413\n",
            "Epoch 117/250\n",
            "251/251 [==============================] - 0s 999us/step - loss: 0.2100 - acc: 0.9442 - val_loss: 0.7940 - val_acc: 0.8730\n",
            "Epoch 118/250\n",
            "251/251 [==============================] - 0s 915us/step - loss: 0.1868 - acc: 0.9363 - val_loss: 0.7960 - val_acc: 0.8413\n",
            "Epoch 119/250\n",
            "251/251 [==============================] - 0s 883us/step - loss: 0.2528 - acc: 0.9203 - val_loss: 0.8297 - val_acc: 0.8254\n",
            "Epoch 120/250\n",
            "251/251 [==============================] - 0s 870us/step - loss: 0.2976 - acc: 0.9044 - val_loss: 0.8464 - val_acc: 0.8413\n",
            "Epoch 121/250\n",
            "251/251 [==============================] - 0s 883us/step - loss: 0.2855 - acc: 0.9243 - val_loss: 0.8586 - val_acc: 0.8254\n",
            "Epoch 122/250\n",
            "251/251 [==============================] - 0s 957us/step - loss: 0.2132 - acc: 0.9323 - val_loss: 0.8857 - val_acc: 0.8095\n",
            "Epoch 123/250\n",
            "251/251 [==============================] - 0s 869us/step - loss: 0.2976 - acc: 0.9084 - val_loss: 0.8612 - val_acc: 0.8413\n",
            "Epoch 124/250\n",
            "251/251 [==============================] - 0s 877us/step - loss: 0.2684 - acc: 0.9203 - val_loss: 0.8951 - val_acc: 0.8413\n",
            "Epoch 125/250\n",
            "251/251 [==============================] - 0s 881us/step - loss: 0.2226 - acc: 0.9402 - val_loss: 0.8347 - val_acc: 0.8571\n",
            "Epoch 126/250\n",
            "251/251 [==============================] - 0s 900us/step - loss: 0.2301 - acc: 0.9402 - val_loss: 0.8276 - val_acc: 0.8413\n",
            "Epoch 127/250\n",
            "251/251 [==============================] - 0s 886us/step - loss: 0.2814 - acc: 0.9044 - val_loss: 0.8053 - val_acc: 0.8254\n",
            "Epoch 128/250\n",
            "251/251 [==============================] - 0s 908us/step - loss: 0.2064 - acc: 0.9482 - val_loss: 0.8134 - val_acc: 0.8730\n",
            "Epoch 129/250\n",
            "251/251 [==============================] - 0s 878us/step - loss: 0.1876 - acc: 0.9602 - val_loss: 0.8361 - val_acc: 0.8730\n",
            "Epoch 130/250\n",
            "251/251 [==============================] - 0s 883us/step - loss: 0.2101 - acc: 0.9562 - val_loss: 0.8656 - val_acc: 0.8571\n",
            "Epoch 131/250\n",
            "251/251 [==============================] - 0s 916us/step - loss: 0.1607 - acc: 0.9402 - val_loss: 0.8978 - val_acc: 0.8413\n",
            "Epoch 132/250\n",
            "251/251 [==============================] - 0s 873us/step - loss: 0.2653 - acc: 0.9163 - val_loss: 0.8850 - val_acc: 0.8413\n",
            "Epoch 133/250\n",
            "251/251 [==============================] - 0s 886us/step - loss: 0.2432 - acc: 0.9283 - val_loss: 0.8436 - val_acc: 0.8413\n",
            "Epoch 134/250\n",
            "251/251 [==============================] - 0s 886us/step - loss: 0.1996 - acc: 0.9482 - val_loss: 0.8382 - val_acc: 0.8413\n",
            "Epoch 135/250\n",
            "251/251 [==============================] - 0s 886us/step - loss: 0.3963 - acc: 0.8845 - val_loss: 0.8695 - val_acc: 0.8571\n",
            "Epoch 136/250\n",
            "251/251 [==============================] - 0s 905us/step - loss: 0.1721 - acc: 0.9522 - val_loss: 0.8450 - val_acc: 0.8571\n",
            "Epoch 137/250\n",
            "251/251 [==============================] - 0s 861us/step - loss: 0.2451 - acc: 0.9084 - val_loss: 0.8998 - val_acc: 0.8413\n",
            "Epoch 138/250\n",
            "251/251 [==============================] - 0s 873us/step - loss: 0.2097 - acc: 0.9482 - val_loss: 0.8953 - val_acc: 0.8254\n",
            "Epoch 139/250\n",
            "251/251 [==============================] - 0s 906us/step - loss: 0.2129 - acc: 0.9283 - val_loss: 0.9146 - val_acc: 0.8254\n",
            "Epoch 140/250\n",
            "251/251 [==============================] - 0s 921us/step - loss: 0.2367 - acc: 0.9243 - val_loss: 0.9384 - val_acc: 0.8413\n",
            "Epoch 141/250\n",
            "251/251 [==============================] - 0s 892us/step - loss: 0.3766 - acc: 0.8884 - val_loss: 0.9262 - val_acc: 0.8254\n",
            "Epoch 142/250\n",
            "251/251 [==============================] - 0s 914us/step - loss: 0.2606 - acc: 0.9163 - val_loss: 0.8502 - val_acc: 0.8571\n",
            "Epoch 143/250\n",
            "251/251 [==============================] - 0s 854us/step - loss: 0.2022 - acc: 0.9363 - val_loss: 0.8508 - val_acc: 0.8571\n",
            "Epoch 144/250\n",
            "251/251 [==============================] - 0s 926us/step - loss: 0.2447 - acc: 0.9203 - val_loss: 0.8660 - val_acc: 0.8254\n",
            "Epoch 145/250\n",
            "251/251 [==============================] - 0s 997us/step - loss: 0.2619 - acc: 0.9243 - val_loss: 0.8707 - val_acc: 0.8413\n",
            "Epoch 146/250\n",
            "251/251 [==============================] - 0s 889us/step - loss: 0.1697 - acc: 0.9482 - val_loss: 0.7997 - val_acc: 0.8413\n",
            "Epoch 147/250\n",
            "251/251 [==============================] - 0s 899us/step - loss: 0.2707 - acc: 0.9243 - val_loss: 0.8550 - val_acc: 0.8413\n",
            "Epoch 148/250\n",
            "251/251 [==============================] - 0s 880us/step - loss: 0.2996 - acc: 0.9004 - val_loss: 0.8806 - val_acc: 0.8730\n",
            "Epoch 149/250\n",
            "251/251 [==============================] - 0s 914us/step - loss: 0.1959 - acc: 0.9402 - val_loss: 0.8416 - val_acc: 0.8730\n",
            "Epoch 150/250\n",
            "251/251 [==============================] - 0s 867us/step - loss: 0.2811 - acc: 0.9243 - val_loss: 0.8666 - val_acc: 0.8413\n",
            "Epoch 151/250\n",
            "251/251 [==============================] - 0s 902us/step - loss: 0.1969 - acc: 0.9482 - val_loss: 0.8736 - val_acc: 0.8413\n",
            "Epoch 152/250\n",
            "251/251 [==============================] - 0s 878us/step - loss: 0.2736 - acc: 0.9044 - val_loss: 0.8882 - val_acc: 0.8254\n",
            "Epoch 153/250\n",
            "251/251 [==============================] - 0s 866us/step - loss: 0.3059 - acc: 0.9203 - val_loss: 0.8670 - val_acc: 0.8571\n",
            "Epoch 154/250\n",
            "251/251 [==============================] - 0s 885us/step - loss: 0.2667 - acc: 0.9004 - val_loss: 0.8490 - val_acc: 0.8413\n",
            "Epoch 155/250\n",
            "251/251 [==============================] - 0s 886us/step - loss: 0.2793 - acc: 0.9044 - val_loss: 0.8387 - val_acc: 0.8571\n",
            "Epoch 156/250\n",
            "251/251 [==============================] - 0s 866us/step - loss: 0.2070 - acc: 0.9402 - val_loss: 0.8279 - val_acc: 0.8413\n",
            "Epoch 157/250\n",
            "251/251 [==============================] - 0s 865us/step - loss: 0.2506 - acc: 0.9323 - val_loss: 0.7652 - val_acc: 0.8571\n",
            "Epoch 158/250\n",
            "251/251 [==============================] - 0s 937us/step - loss: 0.2035 - acc: 0.9283 - val_loss: 0.7710 - val_acc: 0.8730\n",
            "Epoch 159/250\n",
            "251/251 [==============================] - 0s 875us/step - loss: 0.1704 - acc: 0.9562 - val_loss: 0.8031 - val_acc: 0.8889\n",
            "Epoch 160/250\n",
            "251/251 [==============================] - 0s 858us/step - loss: 0.2035 - acc: 0.9363 - val_loss: 0.7557 - val_acc: 0.8889\n",
            "Epoch 161/250\n",
            "251/251 [==============================] - 0s 870us/step - loss: 0.1921 - acc: 0.9482 - val_loss: 0.7369 - val_acc: 0.8889\n",
            "Epoch 162/250\n",
            "251/251 [==============================] - 0s 876us/step - loss: 0.1674 - acc: 0.9602 - val_loss: 0.8087 - val_acc: 0.8889\n",
            "Epoch 163/250\n",
            "251/251 [==============================] - 0s 909us/step - loss: 0.2347 - acc: 0.9163 - val_loss: 0.8938 - val_acc: 0.8730\n",
            "Epoch 164/250\n",
            "251/251 [==============================] - 0s 941us/step - loss: 0.1824 - acc: 0.9442 - val_loss: 0.8600 - val_acc: 0.8571\n",
            "Epoch 165/250\n",
            "251/251 [==============================] - 0s 864us/step - loss: 0.2892 - acc: 0.9163 - val_loss: 0.8214 - val_acc: 0.8413\n",
            "Epoch 166/250\n",
            "251/251 [==============================] - 0s 846us/step - loss: 0.1528 - acc: 0.9482 - val_loss: 0.8849 - val_acc: 0.8413\n",
            "Epoch 167/250\n",
            "251/251 [==============================] - 0s 891us/step - loss: 0.2389 - acc: 0.9283 - val_loss: 0.8463 - val_acc: 0.8889\n",
            "Epoch 168/250\n",
            "251/251 [==============================] - 0s 935us/step - loss: 0.1799 - acc: 0.9562 - val_loss: 0.8289 - val_acc: 0.8889\n",
            "Epoch 169/250\n",
            "251/251 [==============================] - 0s 871us/step - loss: 0.1858 - acc: 0.9522 - val_loss: 0.8127 - val_acc: 0.8889\n",
            "Epoch 170/250\n",
            "251/251 [==============================] - 0s 900us/step - loss: 0.1845 - acc: 0.9442 - val_loss: 0.7971 - val_acc: 0.8889\n",
            "Epoch 171/250\n",
            "251/251 [==============================] - 0s 887us/step - loss: 0.1528 - acc: 0.9562 - val_loss: 0.8076 - val_acc: 0.8889\n",
            "Epoch 172/250\n",
            "251/251 [==============================] - 0s 930us/step - loss: 0.1664 - acc: 0.9522 - val_loss: 0.8100 - val_acc: 0.8571\n",
            "Epoch 173/250\n",
            "251/251 [==============================] - 0s 882us/step - loss: 0.2233 - acc: 0.9283 - val_loss: 0.8234 - val_acc: 0.8413\n",
            "Epoch 174/250\n",
            "251/251 [==============================] - 0s 905us/step - loss: 0.2044 - acc: 0.9482 - val_loss: 0.8352 - val_acc: 0.8571\n",
            "Epoch 175/250\n",
            "251/251 [==============================] - 0s 911us/step - loss: 0.1370 - acc: 0.9761 - val_loss: 0.8741 - val_acc: 0.8571\n",
            "Epoch 176/250\n",
            "251/251 [==============================] - 0s 880us/step - loss: 0.1988 - acc: 0.9363 - val_loss: 0.8856 - val_acc: 0.8571\n",
            "Epoch 177/250\n",
            "251/251 [==============================] - 0s 922us/step - loss: 0.2004 - acc: 0.9562 - val_loss: 0.8767 - val_acc: 0.8571\n",
            "Epoch 178/250\n",
            "251/251 [==============================] - 0s 874us/step - loss: 0.1606 - acc: 0.9522 - val_loss: 0.8645 - val_acc: 0.8571\n",
            "Epoch 179/250\n",
            "251/251 [==============================] - 0s 884us/step - loss: 0.1190 - acc: 0.9721 - val_loss: 0.8989 - val_acc: 0.8571\n",
            "Epoch 180/250\n",
            "251/251 [==============================] - 0s 835us/step - loss: 0.1747 - acc: 0.9442 - val_loss: 0.8679 - val_acc: 0.8571\n",
            "Epoch 181/250\n",
            "251/251 [==============================] - 0s 893us/step - loss: 0.1611 - acc: 0.9522 - val_loss: 0.8520 - val_acc: 0.8571\n",
            "Epoch 182/250\n",
            "251/251 [==============================] - 0s 883us/step - loss: 0.1782 - acc: 0.9522 - val_loss: 0.8746 - val_acc: 0.8571\n",
            "Epoch 183/250\n",
            "251/251 [==============================] - 0s 876us/step - loss: 0.1690 - acc: 0.9482 - val_loss: 0.8573 - val_acc: 0.8730\n",
            "Epoch 184/250\n",
            "251/251 [==============================] - 0s 896us/step - loss: 0.1751 - acc: 0.9522 - val_loss: 0.8853 - val_acc: 0.8730\n",
            "Epoch 185/250\n",
            "251/251 [==============================] - 0s 894us/step - loss: 0.1784 - acc: 0.9482 - val_loss: 0.8765 - val_acc: 0.8730\n",
            "Epoch 186/250\n",
            "251/251 [==============================] - 0s 894us/step - loss: 0.1412 - acc: 0.9681 - val_loss: 0.8522 - val_acc: 0.8571\n",
            "Epoch 187/250\n",
            "251/251 [==============================] - 0s 892us/step - loss: 0.1560 - acc: 0.9442 - val_loss: 0.8599 - val_acc: 0.8413\n",
            "Epoch 188/250\n",
            "251/251 [==============================] - 0s 860us/step - loss: 0.1743 - acc: 0.9442 - val_loss: 0.8562 - val_acc: 0.8730\n",
            "Epoch 189/250\n",
            "251/251 [==============================] - 0s 880us/step - loss: 0.1950 - acc: 0.9402 - val_loss: 0.8760 - val_acc: 0.8730\n",
            "Epoch 190/250\n",
            "251/251 [==============================] - 0s 897us/step - loss: 0.1523 - acc: 0.9522 - val_loss: 0.9090 - val_acc: 0.8571\n",
            "Epoch 191/250\n",
            "251/251 [==============================] - 0s 894us/step - loss: 0.1940 - acc: 0.9243 - val_loss: 0.9140 - val_acc: 0.8254\n",
            "Epoch 192/250\n",
            "251/251 [==============================] - 0s 872us/step - loss: 0.1868 - acc: 0.9442 - val_loss: 0.9239 - val_acc: 0.8571\n",
            "Epoch 193/250\n",
            "251/251 [==============================] - 0s 884us/step - loss: 0.1870 - acc: 0.9482 - val_loss: 0.9081 - val_acc: 0.8730\n",
            "Epoch 194/250\n",
            "251/251 [==============================] - 0s 903us/step - loss: 0.2139 - acc: 0.9243 - val_loss: 0.9363 - val_acc: 0.8413\n",
            "Epoch 195/250\n",
            "251/251 [==============================] - 0s 919us/step - loss: 0.1284 - acc: 0.9602 - val_loss: 0.8995 - val_acc: 0.8730\n",
            "Epoch 196/250\n",
            "251/251 [==============================] - 0s 852us/step - loss: 0.2493 - acc: 0.9243 - val_loss: 0.9278 - val_acc: 0.8413\n",
            "Epoch 197/250\n",
            "251/251 [==============================] - 0s 905us/step - loss: 0.1478 - acc: 0.9482 - val_loss: 0.9208 - val_acc: 0.8571\n",
            "Epoch 198/250\n",
            "251/251 [==============================] - 0s 880us/step - loss: 0.1905 - acc: 0.9482 - val_loss: 0.9683 - val_acc: 0.8413\n",
            "Epoch 199/250\n",
            "251/251 [==============================] - 0s 911us/step - loss: 0.2024 - acc: 0.9402 - val_loss: 0.9989 - val_acc: 0.8413\n",
            "Epoch 200/250\n",
            "251/251 [==============================] - 0s 930us/step - loss: 0.1576 - acc: 0.9602 - val_loss: 0.9859 - val_acc: 0.8413\n",
            "Epoch 201/250\n",
            "251/251 [==============================] - 0s 868us/step - loss: 0.1944 - acc: 0.9402 - val_loss: 0.9740 - val_acc: 0.8413\n",
            "Epoch 202/250\n",
            "251/251 [==============================] - 0s 888us/step - loss: 0.2278 - acc: 0.9363 - val_loss: 0.9443 - val_acc: 0.8413\n",
            "Epoch 203/250\n",
            "251/251 [==============================] - 0s 877us/step - loss: 0.1791 - acc: 0.9402 - val_loss: 0.9272 - val_acc: 0.8413\n",
            "Epoch 204/250\n",
            "251/251 [==============================] - 0s 922us/step - loss: 0.2745 - acc: 0.9203 - val_loss: 0.9357 - val_acc: 0.8571\n",
            "Epoch 205/250\n",
            "251/251 [==============================] - 0s 887us/step - loss: 0.1644 - acc: 0.9562 - val_loss: 0.9361 - val_acc: 0.8413\n",
            "Epoch 206/250\n",
            "251/251 [==============================] - 0s 853us/step - loss: 0.1502 - acc: 0.9522 - val_loss: 0.9671 - val_acc: 0.8413\n",
            "Epoch 207/250\n",
            "251/251 [==============================] - 0s 940us/step - loss: 0.1459 - acc: 0.9522 - val_loss: 0.9609 - val_acc: 0.8254\n",
            "Epoch 208/250\n",
            "251/251 [==============================] - 0s 882us/step - loss: 0.1412 - acc: 0.9522 - val_loss: 0.9752 - val_acc: 0.8413\n",
            "Epoch 209/250\n",
            "251/251 [==============================] - 0s 914us/step - loss: 0.1851 - acc: 0.9363 - val_loss: 0.9520 - val_acc: 0.8254\n",
            "Epoch 210/250\n",
            "251/251 [==============================] - 0s 854us/step - loss: 0.1323 - acc: 0.9602 - val_loss: 0.9567 - val_acc: 0.8095\n",
            "Epoch 211/250\n",
            "251/251 [==============================] - 0s 962us/step - loss: 0.1707 - acc: 0.9602 - val_loss: 0.9630 - val_acc: 0.8254\n",
            "Epoch 212/250\n",
            "251/251 [==============================] - 0s 920us/step - loss: 0.1667 - acc: 0.9602 - val_loss: 0.9612 - val_acc: 0.8413\n",
            "Epoch 213/250\n",
            "251/251 [==============================] - 0s 911us/step - loss: 0.1606 - acc: 0.9442 - val_loss: 0.9713 - val_acc: 0.8413\n",
            "Epoch 214/250\n",
            "251/251 [==============================] - 0s 891us/step - loss: 0.1954 - acc: 0.9203 - val_loss: 0.9764 - val_acc: 0.8413\n",
            "Epoch 215/250\n",
            "251/251 [==============================] - 0s 901us/step - loss: 0.1295 - acc: 0.9761 - val_loss: 0.9520 - val_acc: 0.8254\n",
            "Epoch 216/250\n",
            "251/251 [==============================] - 0s 869us/step - loss: 0.1755 - acc: 0.9482 - val_loss: 0.9702 - val_acc: 0.8571\n",
            "Epoch 217/250\n",
            "251/251 [==============================] - 0s 880us/step - loss: 0.1903 - acc: 0.9323 - val_loss: 0.9937 - val_acc: 0.8571\n",
            "Epoch 218/250\n",
            "251/251 [==============================] - 0s 943us/step - loss: 0.1866 - acc: 0.9363 - val_loss: 0.9828 - val_acc: 0.8413\n",
            "Epoch 219/250\n",
            "251/251 [==============================] - 0s 898us/step - loss: 0.2119 - acc: 0.9283 - val_loss: 1.0288 - val_acc: 0.8413\n",
            "Epoch 220/250\n",
            "251/251 [==============================] - 0s 889us/step - loss: 0.2252 - acc: 0.9163 - val_loss: 1.0206 - val_acc: 0.8413\n",
            "Epoch 221/250\n",
            "251/251 [==============================] - 0s 847us/step - loss: 0.1797 - acc: 0.9283 - val_loss: 0.9956 - val_acc: 0.8571\n",
            "Epoch 222/250\n",
            "251/251 [==============================] - 0s 940us/step - loss: 0.1354 - acc: 0.9522 - val_loss: 0.9854 - val_acc: 0.8571\n",
            "Epoch 223/250\n",
            "251/251 [==============================] - 0s 872us/step - loss: 0.1951 - acc: 0.9243 - val_loss: 0.9578 - val_acc: 0.8730\n",
            "Epoch 224/250\n",
            "251/251 [==============================] - 0s 900us/step - loss: 0.1209 - acc: 0.9681 - val_loss: 0.9737 - val_acc: 0.8413\n",
            "Epoch 225/250\n",
            "251/251 [==============================] - 0s 862us/step - loss: 0.1862 - acc: 0.9363 - val_loss: 0.9997 - val_acc: 0.8413\n",
            "Epoch 226/250\n",
            "251/251 [==============================] - 0s 901us/step - loss: 0.1362 - acc: 0.9562 - val_loss: 0.9641 - val_acc: 0.8571\n",
            "Epoch 227/250\n",
            "251/251 [==============================] - 0s 946us/step - loss: 0.1550 - acc: 0.9602 - val_loss: 0.9661 - val_acc: 0.8571\n",
            "Epoch 228/250\n",
            "251/251 [==============================] - 0s 882us/step - loss: 0.2735 - acc: 0.9283 - val_loss: 0.9530 - val_acc: 0.8413\n",
            "Epoch 229/250\n",
            "251/251 [==============================] - 0s 910us/step - loss: 0.1854 - acc: 0.9402 - val_loss: 0.9189 - val_acc: 0.8571\n",
            "Epoch 230/250\n",
            "251/251 [==============================] - 0s 894us/step - loss: 0.1962 - acc: 0.9283 - val_loss: 0.9230 - val_acc: 0.8571\n",
            "Epoch 231/250\n",
            "251/251 [==============================] - 0s 933us/step - loss: 0.1638 - acc: 0.9402 - val_loss: 0.9718 - val_acc: 0.8730\n",
            "Epoch 232/250\n",
            "251/251 [==============================] - 0s 874us/step - loss: 0.1461 - acc: 0.9641 - val_loss: 0.9782 - val_acc: 0.8730\n",
            "Epoch 233/250\n",
            "251/251 [==============================] - 0s 870us/step - loss: 0.2005 - acc: 0.9522 - val_loss: 0.9890 - val_acc: 0.8571\n",
            "Epoch 234/250\n",
            "251/251 [==============================] - 0s 888us/step - loss: 0.1431 - acc: 0.9562 - val_loss: 0.9835 - val_acc: 0.8413\n",
            "Epoch 235/250\n",
            "251/251 [==============================] - 0s 894us/step - loss: 0.1816 - acc: 0.9323 - val_loss: 0.9381 - val_acc: 0.8413\n",
            "Epoch 236/250\n",
            "251/251 [==============================] - 0s 964us/step - loss: 0.1538 - acc: 0.9482 - val_loss: 0.9413 - val_acc: 0.8571\n",
            "Epoch 237/250\n",
            "251/251 [==============================] - 0s 865us/step - loss: 0.1823 - acc: 0.9323 - val_loss: 0.8978 - val_acc: 0.8571\n",
            "Epoch 238/250\n",
            "251/251 [==============================] - 0s 872us/step - loss: 0.2417 - acc: 0.9124 - val_loss: 0.9016 - val_acc: 0.8571\n",
            "Epoch 239/250\n",
            "251/251 [==============================] - 0s 882us/step - loss: 0.1299 - acc: 0.9442 - val_loss: 0.9093 - val_acc: 0.8889\n",
            "Epoch 240/250\n",
            "251/251 [==============================] - 0s 902us/step - loss: 0.2122 - acc: 0.9363 - val_loss: 0.9489 - val_acc: 0.8571\n",
            "Epoch 241/250\n",
            "251/251 [==============================] - 0s 864us/step - loss: 0.1384 - acc: 0.9522 - val_loss: 0.8884 - val_acc: 0.8730\n",
            "Epoch 242/250\n",
            "251/251 [==============================] - 0s 903us/step - loss: 0.1552 - acc: 0.9442 - val_loss: 0.9353 - val_acc: 0.8730\n",
            "Epoch 243/250\n",
            "251/251 [==============================] - 0s 883us/step - loss: 0.1583 - acc: 0.9402 - val_loss: 0.9589 - val_acc: 0.8571\n",
            "Epoch 244/250\n",
            "251/251 [==============================] - 0s 844us/step - loss: 0.1904 - acc: 0.9442 - val_loss: 0.9045 - val_acc: 0.8889\n",
            "Epoch 245/250\n",
            "251/251 [==============================] - 0s 914us/step - loss: 0.1652 - acc: 0.9482 - val_loss: 0.8746 - val_acc: 0.8730\n",
            "Epoch 246/250\n",
            "251/251 [==============================] - 0s 867us/step - loss: 0.1539 - acc: 0.9522 - val_loss: 0.8920 - val_acc: 0.8730\n",
            "Epoch 247/250\n",
            "251/251 [==============================] - 0s 924us/step - loss: 0.1767 - acc: 0.9402 - val_loss: 0.9192 - val_acc: 0.8571\n",
            "Epoch 248/250\n",
            "251/251 [==============================] - 0s 860us/step - loss: 0.1668 - acc: 0.9602 - val_loss: 0.8879 - val_acc: 0.8571\n",
            "Epoch 249/250\n",
            "251/251 [==============================] - 0s 883us/step - loss: 0.1721 - acc: 0.9442 - val_loss: 0.8930 - val_acc: 0.8730\n",
            "Epoch 250/250\n",
            "251/251 [==============================] - 0s 907us/step - loss: 0.1078 - acc: 0.9602 - val_loss: 0.8607 - val_acc: 0.8571\n"
          ],
          "name": "stdout"
        }
      ]
    },
    {
      "metadata": {
        "id": "Vsk0k1FuxeeZ",
        "colab_type": "code",
        "colab": {}
      },
      "cell_type": "code",
      "source": [
        ""
      ],
      "execution_count": 0,
      "outputs": []
    },
    {
      "metadata": {
        "id": "9QMEm0unxsgL",
        "colab_type": "code",
        "colab": {
          "base_uri": "https://localhost:8080/",
          "height": 34
        },
        "outputId": "2c86290e-7f32-4c9f-9f43-025b9c0a204c"
      },
      "cell_type": "code",
      "source": [
        "# serialize model to JSON\n",
        "model_json = model_relu.to_json()\n",
        "with open(\"sequential_NN_314_model_output_53dim.json\", \"w\") as json_file:\n",
        "    json_file.write(model_json)\n",
        "# serialize weights to HDF5\n",
        "model_relu.save_weights(\"sequential_NN_314_model_ouput_53dim.h5\")\n",
        "\n",
        "print(\"Saved model to disk\")"
      ],
      "execution_count": 128,
      "outputs": [
        {
          "output_type": "stream",
          "text": [
            "Saved model to disk\n"
          ],
          "name": "stdout"
        }
      ]
    },
    {
      "metadata": {
        "id": "n709B86VxsfD",
        "colab_type": "code",
        "colab": {}
      },
      "cell_type": "code",
      "source": [
        ""
      ],
      "execution_count": 0,
      "outputs": []
    },
    {
      "metadata": {
        "id": "WbKVvMjm63iP",
        "colab_type": "code",
        "colab": {}
      },
      "cell_type": "code",
      "source": [
        ""
      ],
      "execution_count": 0,
      "outputs": []
    },
    {
      "metadata": {
        "id": "b-QO-KlD7QqS",
        "colab_type": "text"
      },
      "cell_type": "markdown",
      "source": [
        "PREDICTION"
      ]
    },
    {
      "metadata": {
        "id": "kX_SlNkA7aUj",
        "colab_type": "code",
        "colab": {}
      },
      "cell_type": "code",
      "source": [
        ""
      ],
      "execution_count": 0,
      "outputs": []
    },
    {
      "metadata": {
        "id": "IVeJUWln7aYy",
        "colab_type": "code",
        "colab": {
          "base_uri": "https://localhost:8080/",
          "height": 286
        },
        "outputId": "ebed6558-8b24-4e9b-dfaa-eaee42882762"
      },
      "cell_type": "code",
      "source": [
        "path = \"download (6).jpg\"\n",
        "img = load_image(path)\n",
        "print(\"Original Query Image\")\n",
        "plt.imshow(img)\n",
        "plt.grid(b=None)"
      ],
      "execution_count": 172,
      "outputs": [
        {
          "output_type": "stream",
          "text": [
            "Original Query Image\n"
          ],
          "name": "stdout"
        },
        {
          "output_type": "display_data",
          "data": {
            "image/png": "[encoded data removed]",
            "text/plain": [
              "<Figure size 432x288 with 1 Axes>"
            ]
          },
          "metadata": {
            "tags": []
          }
        }
      ]
    },
    {
      "metadata": {
        "id": "HTsoGWbW7aTI",
        "colab_type": "code",
        "colab": {
          "base_uri": "https://localhost:8080/",
          "height": 34
        },
        "outputId": "ac987c9c-b9f0-40d7-8d3e-840c67b382c1"
      },
      "cell_type": "code",
      "source": [
        "faces = alignment.getAllFaceBoundingBoxes(img)\n",
        "faces"
      ],
      "execution_count": 173,
      "outputs": [
        {
          "output_type": "execute_result",
          "data": {
            "text/plain": [
              "rectangles[[(73, 53) (135, 115)]]"
            ]
          },
          "metadata": {
            "tags": []
          },
          "execution_count": 173
        }
      ]
    },
    {
      "metadata": {
        "id": "jN125PJX63gz",
        "colab_type": "code",
        "colab": {
          "base_uri": "https://localhost:8080/",
          "height": 85
        },
        "outputId": "795a49ac-aa56-4c87-8ff6-d89f4dca6cc8"
      },
      "cell_type": "code",
      "source": [
        "for i in range(len(faces)):\n",
        "  face_aligned = alignment.align(96, img, faces[i], landmarkIndices=AlignDlib.OUTER_EYES_AND_NOSE)\n",
        "  face_aligned = (face_aligned / 255.).astype(np.float32)\n",
        "  embedding = model.predict(np.expand_dims(face_aligned, axis=0))[0]\n",
        "  pred = model_relu.predict([[embedding]])\n",
        "  ind = np.argsort(pred[0])\n",
        "  print(ind[::-1][:5])\n",
        "  print(le.inverse_transform([ind[::-1][0]])[0])\n",
        "  print(\"Prediction Probability: \",pred[0][ind[::-1][0]]*100,\"%\")\n",
        "  print()"
      ],
      "execution_count": 176,
      "outputs": [
        {
          "output_type": "stream",
          "text": [
            "[ 7 23 32 29 42]\n",
            "adil hussain\n",
            "Prediction Probability:  79.6936571598053 %\n",
            "\n"
          ],
          "name": "stdout"
        }
      ]
    },
    {
      "metadata": {
        "id": "OINYr6ep8QTr",
        "colab_type": "code",
        "colab": {}
      },
      "cell_type": "code",
      "source": [
        ""
      ],
      "execution_count": 0,
      "outputs": []
    },
    {
      "metadata": {
        "id": "7B8lz-ZBBfWV",
        "colab_type": "code",
        "colab": {}
      },
      "cell_type": "code",
      "source": [
        ""
      ],
      "execution_count": 0,
      "outputs": []
    }
  ]
}